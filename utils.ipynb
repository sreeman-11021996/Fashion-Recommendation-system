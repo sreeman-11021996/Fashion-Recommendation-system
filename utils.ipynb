{
  "nbformat": 4,
  "nbformat_minor": 0,
  "metadata": {
    "colab": {
      "provenance": [],
      "authorship_tag": "ABX9TyOK3tCbLtTGpw839RnNyrwl",
      "include_colab_link": true
    },
    "kernelspec": {
      "name": "python3",
      "display_name": "Python 3"
    },
    "language_info": {
      "name": "python"
    }
  },
  "cells": [
    {
      "cell_type": "markdown",
      "metadata": {
        "id": "view-in-github",
        "colab_type": "text"
      },
      "source": [
        "<a href=\"https://colab.research.google.com/github/sreeman-11021996/Fashion-Recommendation-system/blob/main/utils.ipynb\" target=\"_parent\"><img src=\"https://colab.research.google.com/assets/colab-badge.svg\" alt=\"Open In Colab\"/></a>"
      ]
    },
    {
      "cell_type": "code",
      "execution_count": 1,
      "metadata": {
        "id": "TDxMJOGTj8PQ"
      },
      "outputs": [],
      "source": [
        "import os\n",
        "import pandas as pd\n",
        "import numpy as np\n",
        "from tqdm import tqdm\n",
        "import matplotlib.pyplot as plt"
      ]
    },
    {
      "cell_type": "code",
      "source": [
        "def clean_data_(df,dirimg=\"/content/images\"):\n",
        "    \"\"\"\n",
        "    this functions removes those rows from the DataFrame for which there are\n",
        "    no images in the dataset\n",
        "    \"\"\"\n",
        "    drop_indices = []\n",
        "    print('[INFO]: Checking if all images are present')\n",
        "    for index, image_id in tqdm(df.iterrows()):\n",
        "        if not os.path.exists(os.path.join(dirimg,str(image_id.id)+\".jpg\")):\n",
        "            drop_indices.append(index)\n",
        "    print(f\"[INFO]: Dropping indices: {drop_indices}\")\n",
        "    df = df.drop(df.index[drop_indices])\n",
        "    return df"
      ],
      "metadata": {
        "id": "obRSEJOJkEs0"
      },
      "execution_count": 2,
      "outputs": []
    },
    {
      "cell_type": "code",
      "source": [
        "def save_model_arc(model):\n",
        "    # save the architecture\n",
        "    save_model_json = model.to_json()\n",
        "    with open(\"myModel_arc.json\", \"w\") as json_file:\n",
        "        json_file.write(save_model_json )"
      ],
      "metadata": {
        "id": "N7OP0QqX0zn1"
      },
      "execution_count": 3,
      "outputs": []
    },
    {
      "cell_type": "code",
      "source": [
        "def save_model_wts(model):\n",
        "  # save the weights\n",
        "  model.save_weights(\"myModel_wts.h5\")"
      ],
      "metadata": {
        "id": "kiBZso8DkNpQ"
      },
      "execution_count": 4,
      "outputs": []
    },
    {
      "cell_type": "code",
      "source": [
        "# save the train and validation loss plots to disk\n",
        "def save_loss_plot(train_loss, val_loss):\n",
        "    plt.figure(figsize=(10, 7))\n",
        "    plt.plot(train_loss, color='orange', label='train loss')\n",
        "    plt.plot(val_loss, color='red', label='validataion loss')\n",
        "    plt.xlabel('Epochs')\n",
        "    plt.ylabel('Loss')\n",
        "    plt.legend()\n",
        "    plt.savefig('../outputs/loss.jpg')\n",
        "    plt.show()"
      ],
      "metadata": {
        "id": "V1GnEOWokSsB"
      },
      "execution_count": 5,
      "outputs": []
    },
    {
      "cell_type": "code",
      "source": [
        "def map_label_dicts(df):\n",
        "    # remove rows from the DataFrame which do not have corresponding images\n",
        "    # we will use the `gender`, `masterCategory`. and `subCategory` labels\n",
        "\n",
        "    # mapping `gender` to numerical values\n",
        "    cat_list_gender = df['gender'].unique()\n",
        "    # 5 unique categories for gender\n",
        "    num_list_gender = {cat:i for i, cat in enumerate(cat_list_gender)}\n",
        "\n",
        "    # mapping `masterCategory` to numerical values\n",
        "    cat_list_master = df['masterCategory'].unique()\n",
        "    # 7 unique categories for `masterCategory`\n",
        "    num_list_master = {cat:i for i, cat in enumerate(cat_list_master)}\n",
        "\n",
        "    # mapping `subCategory` to numerical values\n",
        "    cat_list_sub = df['subCategory'].unique()\n",
        "    # 45 unique categories for `subCategory`\n",
        "    num_list_sub = {cat:i for i, cat in enumerate(cat_list_sub)}\n",
        "\n",
        "    return num_list_gender,num_list_master,num_list_sub"
      ],
      "metadata": {
        "id": "siwDQIDJkVjG"
      },
      "execution_count": 6,
      "outputs": []
    },
    {
      "cell_type": "code",
      "source": [
        "# multilabel classificaiton generator\n",
        "def multilabel_flow_from_dataframe(data_generator, mlb_,image_df):\n",
        "    for x, y in data_generator:\n",
        "        indices = y.astype(np.int).tolist()\n",
        "        y_multi = mlb_.transform(\n",
        "            image_df.iloc[indices]['classes'].values.tolist()\n",
        "        )\n",
        "        yield x, y_multi"
      ],
      "metadata": {
        "id": "Xeh7G5LLke2n"
      },
      "execution_count": 7,
      "outputs": []
    },
    {
      "cell_type": "code",
      "source": [
        "\"\"\"class Generator():\n",
        "\n",
        "    def __init__(self,dataset,img_file_dir,img_data_gen,batch_size,mlb,X=[\"id\"], y=[\"classes\"],):\n",
        "        self.dataset = dataset\n",
        "        self.X = X\n",
        "        self.y = y  # Maybe a file that has the appropriate label mapping?\n",
        "        \n",
        "        self.img_data_gen = img_data_gen  # The ImageDataGenerator Instance\n",
        "        self.batch_size = batch_size\n",
        "        self.mlb = mlb\n",
        "        self.directory = img_file_dir\n",
        "\n",
        "        self.apply_labels()\n",
        "        self.generator = self.data_generator_()\n",
        "\n",
        "    def apply_labels(self):\n",
        "        # Code to apply labels to each sample based on self.X and self.Ypd.Series(self.mlb.transform(self.dataset[self.y].values.tolist()))\n",
        "        self.dataset[self.y] = \n",
        "\n",
        "    def data_generator_(self):\n",
        "        \"\"\"Get the next training batch\"\"\"\n",
        "        return self.img_data_gen.flow_from_dataframe(\n",
        "            self.dataset,\n",
        "            directory = self.directory,\n",
        "            x_col=self.X[0] ,\n",
        "            y_col=self.y[0],\n",
        "            batch_size = self.batch_size,\n",
        "            class_mode='other',\n",
        "            color_mode=\"rgb\",\n",
        "            target_size=(224, 224),\n",
        "            shuffle=True)\"\"\""
      ],
      "metadata": {
        "id": "czdCY_JMGrfn"
      },
      "execution_count": null,
      "outputs": []
    },
    {
      "cell_type": "code",
      "source": [],
      "metadata": {
        "id": "5MEGwBurJ0HF"
      },
      "execution_count": null,
      "outputs": []
    }
  ]
}