{
  "nbformat": 4,
  "nbformat_minor": 0,
  "metadata": {
    "colab": {
      "provenance": [],
      "authorship_tag": "ABX9TyPE3YIw+yGmMTIXp7Ybxmql",
      "include_colab_link": true
    },
    "kernelspec": {
      "name": "python3",
      "display_name": "Python 3"
    },
    "language_info": {
      "name": "python"
    },
    "accelerator": "GPU",
    "gpuClass": "standard"
  },
  "cells": [
    {
      "cell_type": "markdown",
      "metadata": {
        "id": "view-in-github",
        "colab_type": "text"
      },
      "source": [
        "<a href=\"https://colab.research.google.com/github/sreeman-11021996/Fashion-Recommendation-system/blob/main/my_resnet.ipynb\" target=\"_parent\"><img src=\"https://colab.research.google.com/assets/colab-badge.svg\" alt=\"Open In Colab\"/></a>"
      ]
    },
    {
      "cell_type": "code",
      "execution_count": null,
      "metadata": {
        "id": "yFuHKj3bWUR6"
      },
      "outputs": [],
      "source": []
    },
    {
      "cell_type": "code",
      "source": [
        "!mkdir -p ~/.kaggle\n",
        "!cp kaggle.json ~/.kaggle/"
      ],
      "metadata": {
        "id": "KbT7y_SkauKh"
      },
      "execution_count": null,
      "outputs": []
    },
    {
      "cell_type": "code",
      "source": [
        "!kaggle datasets download -d paramaggarwal/fashion-product-images-small"
      ],
      "metadata": {
        "colab": {
          "base_uri": "https://localhost:8080/"
        },
        "id": "kpLafBaMaqt4",
        "outputId": "0153bb26-6030-492a-900d-f639bf443f0f"
      },
      "execution_count": null,
      "outputs": [
        {
          "output_type": "stream",
          "name": "stdout",
          "text": [
            "Warning: Your Kaggle API key is readable by other users on this system! To fix this, you can run 'chmod 600 /root/.kaggle/kaggle.json'\n",
            "Downloading fashion-product-images-small.zip to /content\n",
            " 99% 560M/565M [00:03<00:00, 220MB/s]\n",
            "100% 565M/565M [00:03<00:00, 193MB/s]\n"
          ]
        }
      ]
    },
    {
      "cell_type": "code",
      "source": [
        "import zipfile\n",
        "zip_ref = zipfile.ZipFile(\"/content/fashion-product-images-small.zip\", \"r\")\n",
        "zip_ref.extractall(\"/content\")\n",
        "zip_ref.close()"
      ],
      "metadata": {
        "id": "dn8V_utGa3n3"
      },
      "execution_count": null,
      "outputs": []
    },
    {
      "cell_type": "code",
      "source": [
        "import tensorflow\n",
        "from tensorflow.keras.layers import Conv2D,BatchNormalization,Activation,Add,ZeroPadding2D,\\\n",
        "MaxPooling2D,AveragePooling2D,Input,Flatten,Dense\n",
        "from tensorflow.keras.initializers import GlorotUniform\n",
        "from keras.models import Model\n",
        "from tensorflow.keras.preprocessing import image\n",
        "\n",
        "import numpy as np\n",
        "import pandas as pd\n",
        "import os\n",
        "from tqdm import tqdm\n",
        "import pickle\n",
        "import matplotlib.pyplot as plt"
      ],
      "metadata": {
        "id": "iKFw_u9_biJP"
      },
      "execution_count": null,
      "outputs": []
    },
    {
      "cell_type": "code",
      "source": [
        "#Loading the labels and removing missing images:\n",
        "train=pd.read_csv('/content/styles.csv',usecols=[\"id\",\"gender\",\"masterCategory\",\n",
        "                                                 \"subCategory\",\"articleType\",\n",
        "                                                 \"baseColour\",\"season\",\"usage\"])"
      ],
      "metadata": {
        "id": "rWmFAP6cc8BP"
      },
      "execution_count": null,
      "outputs": []
    },
    {
      "cell_type": "code",
      "source": [
        "def clean_data_(df,dirimg=\"/content/images\"):\n",
        "    \"\"\"\n",
        "    this functions removes those rows from the DataFrame for which there are\n",
        "    no images in the dataset\n",
        "    \"\"\"\n",
        "    drop_indices = []\n",
        "    print('[INFO]: Checking if all images are present')\n",
        "    for index, image_id in tqdm(df.iterrows()):\n",
        "        if not os.path.exists(os.path.join(dirimg,str(image_id.id)+\".jpg\")):\n",
        "            drop_indices.append(index)\n",
        "    print(f\"[INFO]: Dropping indices: {drop_indices}\")\n",
        "    df = df.drop(df.index[drop_indices])\n",
        "    return df"
      ],
      "metadata": {
        "id": "jrhDyzUch1h5"
      },
      "execution_count": null,
      "outputs": []
    },
    {
      "cell_type": "code",
      "source": [
        "train_clean = clean_data_(train)"
      ],
      "metadata": {
        "colab": {
          "base_uri": "https://localhost:8080/"
        },
        "id": "t4NkO-KjiRh5",
        "outputId": "1d62546d-3f75-4954-9d77-4a1017a5a1bb"
      },
      "execution_count": null,
      "outputs": [
        {
          "output_type": "stream",
          "name": "stdout",
          "text": [
            "[INFO]: Checking if all images are present\n"
          ]
        },
        {
          "output_type": "stream",
          "name": "stderr",
          "text": [
            "44446it [00:02, 16281.16it/s]\n"
          ]
        },
        {
          "output_type": "stream",
          "name": "stdout",
          "text": [
            "[INFO]: Dropping indices: [6697, 16207, 32324, 36399, 40022]\n"
          ]
        }
      ]
    },
    {
      "cell_type": "code",
      "source": [
        "train_clean.shape"
      ],
      "metadata": {
        "colab": {
          "base_uri": "https://localhost:8080/"
        },
        "id": "wVktdx3Gijj3",
        "outputId": "7e397d14-9113-4622-d6f6-9e5633ed9506"
      },
      "execution_count": null,
      "outputs": [
        {
          "output_type": "execute_result",
          "data": {
            "text/plain": [
              "(44441, 8)"
            ]
          },
          "metadata": {},
          "execution_count": 10
        }
      ]
    },
    {
      "cell_type": "code",
      "source": [
        "train_clean.head()"
      ],
      "metadata": {
        "colab": {
          "base_uri": "https://localhost:8080/",
          "height": 206
        },
        "id": "8KuEdGgxfYGW",
        "outputId": "0440cd17-197b-4250-c77b-7f5aa0c69e9e"
      },
      "execution_count": null,
      "outputs": [
        {
          "output_type": "execute_result",
          "data": {
            "text/plain": [
              "      id gender masterCategory subCategory  articleType baseColour  season  \\\n",
              "0  15970    Men        Apparel     Topwear       Shirts  Navy Blue    Fall   \n",
              "1  39386    Men        Apparel  Bottomwear        Jeans       Blue  Summer   \n",
              "2  59263  Women    Accessories     Watches      Watches     Silver  Winter   \n",
              "3  21379    Men        Apparel  Bottomwear  Track Pants      Black    Fall   \n",
              "4  53759    Men        Apparel     Topwear      Tshirts       Grey  Summer   \n",
              "\n",
              "    usage  \n",
              "0  Casual  \n",
              "1  Casual  \n",
              "2  Casual  \n",
              "3  Casual  \n",
              "4  Casual  "
            ],
            "text/html": [
              "\n",
              "  <div id=\"df-d5efc2c3-8394-4434-8b5e-4418e7468e28\">\n",
              "    <div class=\"colab-df-container\">\n",
              "      <div>\n",
              "<style scoped>\n",
              "    .dataframe tbody tr th:only-of-type {\n",
              "        vertical-align: middle;\n",
              "    }\n",
              "\n",
              "    .dataframe tbody tr th {\n",
              "        vertical-align: top;\n",
              "    }\n",
              "\n",
              "    .dataframe thead th {\n",
              "        text-align: right;\n",
              "    }\n",
              "</style>\n",
              "<table border=\"1\" class=\"dataframe\">\n",
              "  <thead>\n",
              "    <tr style=\"text-align: right;\">\n",
              "      <th></th>\n",
              "      <th>id</th>\n",
              "      <th>gender</th>\n",
              "      <th>masterCategory</th>\n",
              "      <th>subCategory</th>\n",
              "      <th>articleType</th>\n",
              "      <th>baseColour</th>\n",
              "      <th>season</th>\n",
              "      <th>usage</th>\n",
              "    </tr>\n",
              "  </thead>\n",
              "  <tbody>\n",
              "    <tr>\n",
              "      <th>0</th>\n",
              "      <td>15970</td>\n",
              "      <td>Men</td>\n",
              "      <td>Apparel</td>\n",
              "      <td>Topwear</td>\n",
              "      <td>Shirts</td>\n",
              "      <td>Navy Blue</td>\n",
              "      <td>Fall</td>\n",
              "      <td>Casual</td>\n",
              "    </tr>\n",
              "    <tr>\n",
              "      <th>1</th>\n",
              "      <td>39386</td>\n",
              "      <td>Men</td>\n",
              "      <td>Apparel</td>\n",
              "      <td>Bottomwear</td>\n",
              "      <td>Jeans</td>\n",
              "      <td>Blue</td>\n",
              "      <td>Summer</td>\n",
              "      <td>Casual</td>\n",
              "    </tr>\n",
              "    <tr>\n",
              "      <th>2</th>\n",
              "      <td>59263</td>\n",
              "      <td>Women</td>\n",
              "      <td>Accessories</td>\n",
              "      <td>Watches</td>\n",
              "      <td>Watches</td>\n",
              "      <td>Silver</td>\n",
              "      <td>Winter</td>\n",
              "      <td>Casual</td>\n",
              "    </tr>\n",
              "    <tr>\n",
              "      <th>3</th>\n",
              "      <td>21379</td>\n",
              "      <td>Men</td>\n",
              "      <td>Apparel</td>\n",
              "      <td>Bottomwear</td>\n",
              "      <td>Track Pants</td>\n",
              "      <td>Black</td>\n",
              "      <td>Fall</td>\n",
              "      <td>Casual</td>\n",
              "    </tr>\n",
              "    <tr>\n",
              "      <th>4</th>\n",
              "      <td>53759</td>\n",
              "      <td>Men</td>\n",
              "      <td>Apparel</td>\n",
              "      <td>Topwear</td>\n",
              "      <td>Tshirts</td>\n",
              "      <td>Grey</td>\n",
              "      <td>Summer</td>\n",
              "      <td>Casual</td>\n",
              "    </tr>\n",
              "  </tbody>\n",
              "</table>\n",
              "</div>\n",
              "      <button class=\"colab-df-convert\" onclick=\"convertToInteractive('df-d5efc2c3-8394-4434-8b5e-4418e7468e28')\"\n",
              "              title=\"Convert this dataframe to an interactive table.\"\n",
              "              style=\"display:none;\">\n",
              "        \n",
              "  <svg xmlns=\"http://www.w3.org/2000/svg\" height=\"24px\"viewBox=\"0 0 24 24\"\n",
              "       width=\"24px\">\n",
              "    <path d=\"M0 0h24v24H0V0z\" fill=\"none\"/>\n",
              "    <path d=\"M18.56 5.44l.94 2.06.94-2.06 2.06-.94-2.06-.94-.94-2.06-.94 2.06-2.06.94zm-11 1L8.5 8.5l.94-2.06 2.06-.94-2.06-.94L8.5 2.5l-.94 2.06-2.06.94zm10 10l.94 2.06.94-2.06 2.06-.94-2.06-.94-.94-2.06-.94 2.06-2.06.94z\"/><path d=\"M17.41 7.96l-1.37-1.37c-.4-.4-.92-.59-1.43-.59-.52 0-1.04.2-1.43.59L10.3 9.45l-7.72 7.72c-.78.78-.78 2.05 0 2.83L4 21.41c.39.39.9.59 1.41.59.51 0 1.02-.2 1.41-.59l7.78-7.78 2.81-2.81c.8-.78.8-2.07 0-2.86zM5.41 20L4 18.59l7.72-7.72 1.47 1.35L5.41 20z\"/>\n",
              "  </svg>\n",
              "      </button>\n",
              "      \n",
              "  <style>\n",
              "    .colab-df-container {\n",
              "      display:flex;\n",
              "      flex-wrap:wrap;\n",
              "      gap: 12px;\n",
              "    }\n",
              "\n",
              "    .colab-df-convert {\n",
              "      background-color: #E8F0FE;\n",
              "      border: none;\n",
              "      border-radius: 50%;\n",
              "      cursor: pointer;\n",
              "      display: none;\n",
              "      fill: #1967D2;\n",
              "      height: 32px;\n",
              "      padding: 0 0 0 0;\n",
              "      width: 32px;\n",
              "    }\n",
              "\n",
              "    .colab-df-convert:hover {\n",
              "      background-color: #E2EBFA;\n",
              "      box-shadow: 0px 1px 2px rgba(60, 64, 67, 0.3), 0px 1px 3px 1px rgba(60, 64, 67, 0.15);\n",
              "      fill: #174EA6;\n",
              "    }\n",
              "\n",
              "    [theme=dark] .colab-df-convert {\n",
              "      background-color: #3B4455;\n",
              "      fill: #D2E3FC;\n",
              "    }\n",
              "\n",
              "    [theme=dark] .colab-df-convert:hover {\n",
              "      background-color: #434B5C;\n",
              "      box-shadow: 0px 1px 3px 1px rgba(0, 0, 0, 0.15);\n",
              "      filter: drop-shadow(0px 1px 2px rgba(0, 0, 0, 0.3));\n",
              "      fill: #FFFFFF;\n",
              "    }\n",
              "  </style>\n",
              "\n",
              "      <script>\n",
              "        const buttonEl =\n",
              "          document.querySelector('#df-d5efc2c3-8394-4434-8b5e-4418e7468e28 button.colab-df-convert');\n",
              "        buttonEl.style.display =\n",
              "          google.colab.kernel.accessAllowed ? 'block' : 'none';\n",
              "\n",
              "        async function convertToInteractive(key) {\n",
              "          const element = document.querySelector('#df-d5efc2c3-8394-4434-8b5e-4418e7468e28');\n",
              "          const dataTable =\n",
              "            await google.colab.kernel.invokeFunction('convertToInteractive',\n",
              "                                                     [key], {});\n",
              "          if (!dataTable) return;\n",
              "\n",
              "          const docLinkHtml = 'Like what you see? Visit the ' +\n",
              "            '<a target=\"_blank\" href=https://colab.research.google.com/notebooks/data_table.ipynb>data table notebook</a>'\n",
              "            + ' to learn more about interactive tables.';\n",
              "          element.innerHTML = '';\n",
              "          dataTable['output_type'] = 'display_data';\n",
              "          await google.colab.output.renderOutput(dataTable, element);\n",
              "          const docLink = document.createElement('div');\n",
              "          docLink.innerHTML = docLinkHtml;\n",
              "          element.appendChild(docLink);\n",
              "        }\n",
              "      </script>\n",
              "    </div>\n",
              "  </div>\n",
              "  "
            ]
          },
          "metadata": {},
          "execution_count": 11
        }
      ]
    },
    {
      "cell_type": "code",
      "source": [
        "def cat_comb(df,columns=['gender','masterCategory','subCategory','articleType',\\\n",
        "                                'baseColour','season','usage']):\n",
        "    df_new = df.copy()\n",
        "    count = df_new.groupby(columns).size().reset_index().rename(columns={0:\"count\"})\n",
        "    single_comb = count[count[\"count\"]==1]\n",
        "    cat_comb_df = pd.concat([count,single_comb]).drop_duplicates(keep=False)\n",
        "    return cat_comb_df,single_comb"
      ],
      "metadata": {
        "id": "IBFcpwFYficZ"
      },
      "execution_count": null,
      "outputs": []
    },
    {
      "cell_type": "code",
      "source": [
        "cat_comb_df,single_com = cat_comb(train_clean,columns=[\"gender\",\"masterCategory\",\"subCategory\"])"
      ],
      "metadata": {
        "id": "mpU1GptwgA6u"
      },
      "execution_count": null,
      "outputs": []
    },
    {
      "cell_type": "code",
      "source": [
        "single_com"
      ],
      "metadata": {
        "colab": {
          "base_uri": "https://localhost:8080/",
          "height": 457
        },
        "id": "BqQEHr9ZgM0f",
        "outputId": "01cf2a0a-a137-47c9-bf71-152a114a3799"
      },
      "execution_count": null,
      "outputs": [
        {
          "output_type": "execute_result",
          "data": {
            "text/plain": [
              "     gender masterCategory      subCategory  count\n",
              "0      Boys    Accessories          Eyewear      1\n",
              "2      Boys    Accessories         Headwear      1\n",
              "3      Boys    Accessories            Socks      1\n",
              "16    Girls    Accessories         Headwear      1\n",
              "17    Girls    Accessories        Jewellery      1\n",
              "37      Men    Accessories         Perfumes      1\n",
              "45      Men    Accessories     Water Bottle      1\n",
              "54      Men  Personal Care    Bath and Body      1\n",
              "62   Unisex    Accessories           Gloves      1\n",
              "64   Unisex    Accessories         Mufflers      1\n",
              "79   Unisex           Home  Home Furnishing      1\n",
              "82   Unisex  Personal Care        Skin Care      1\n",
              "110   Women     Free Items         Vouchers      1"
            ],
            "text/html": [
              "\n",
              "  <div id=\"df-be9e76a3-53ea-4bb3-9841-684ede1b770b\">\n",
              "    <div class=\"colab-df-container\">\n",
              "      <div>\n",
              "<style scoped>\n",
              "    .dataframe tbody tr th:only-of-type {\n",
              "        vertical-align: middle;\n",
              "    }\n",
              "\n",
              "    .dataframe tbody tr th {\n",
              "        vertical-align: top;\n",
              "    }\n",
              "\n",
              "    .dataframe thead th {\n",
              "        text-align: right;\n",
              "    }\n",
              "</style>\n",
              "<table border=\"1\" class=\"dataframe\">\n",
              "  <thead>\n",
              "    <tr style=\"text-align: right;\">\n",
              "      <th></th>\n",
              "      <th>gender</th>\n",
              "      <th>masterCategory</th>\n",
              "      <th>subCategory</th>\n",
              "      <th>count</th>\n",
              "    </tr>\n",
              "  </thead>\n",
              "  <tbody>\n",
              "    <tr>\n",
              "      <th>0</th>\n",
              "      <td>Boys</td>\n",
              "      <td>Accessories</td>\n",
              "      <td>Eyewear</td>\n",
              "      <td>1</td>\n",
              "    </tr>\n",
              "    <tr>\n",
              "      <th>2</th>\n",
              "      <td>Boys</td>\n",
              "      <td>Accessories</td>\n",
              "      <td>Headwear</td>\n",
              "      <td>1</td>\n",
              "    </tr>\n",
              "    <tr>\n",
              "      <th>3</th>\n",
              "      <td>Boys</td>\n",
              "      <td>Accessories</td>\n",
              "      <td>Socks</td>\n",
              "      <td>1</td>\n",
              "    </tr>\n",
              "    <tr>\n",
              "      <th>16</th>\n",
              "      <td>Girls</td>\n",
              "      <td>Accessories</td>\n",
              "      <td>Headwear</td>\n",
              "      <td>1</td>\n",
              "    </tr>\n",
              "    <tr>\n",
              "      <th>17</th>\n",
              "      <td>Girls</td>\n",
              "      <td>Accessories</td>\n",
              "      <td>Jewellery</td>\n",
              "      <td>1</td>\n",
              "    </tr>\n",
              "    <tr>\n",
              "      <th>37</th>\n",
              "      <td>Men</td>\n",
              "      <td>Accessories</td>\n",
              "      <td>Perfumes</td>\n",
              "      <td>1</td>\n",
              "    </tr>\n",
              "    <tr>\n",
              "      <th>45</th>\n",
              "      <td>Men</td>\n",
              "      <td>Accessories</td>\n",
              "      <td>Water Bottle</td>\n",
              "      <td>1</td>\n",
              "    </tr>\n",
              "    <tr>\n",
              "      <th>54</th>\n",
              "      <td>Men</td>\n",
              "      <td>Personal Care</td>\n",
              "      <td>Bath and Body</td>\n",
              "      <td>1</td>\n",
              "    </tr>\n",
              "    <tr>\n",
              "      <th>62</th>\n",
              "      <td>Unisex</td>\n",
              "      <td>Accessories</td>\n",
              "      <td>Gloves</td>\n",
              "      <td>1</td>\n",
              "    </tr>\n",
              "    <tr>\n",
              "      <th>64</th>\n",
              "      <td>Unisex</td>\n",
              "      <td>Accessories</td>\n",
              "      <td>Mufflers</td>\n",
              "      <td>1</td>\n",
              "    </tr>\n",
              "    <tr>\n",
              "      <th>79</th>\n",
              "      <td>Unisex</td>\n",
              "      <td>Home</td>\n",
              "      <td>Home Furnishing</td>\n",
              "      <td>1</td>\n",
              "    </tr>\n",
              "    <tr>\n",
              "      <th>82</th>\n",
              "      <td>Unisex</td>\n",
              "      <td>Personal Care</td>\n",
              "      <td>Skin Care</td>\n",
              "      <td>1</td>\n",
              "    </tr>\n",
              "    <tr>\n",
              "      <th>110</th>\n",
              "      <td>Women</td>\n",
              "      <td>Free Items</td>\n",
              "      <td>Vouchers</td>\n",
              "      <td>1</td>\n",
              "    </tr>\n",
              "  </tbody>\n",
              "</table>\n",
              "</div>\n",
              "      <button class=\"colab-df-convert\" onclick=\"convertToInteractive('df-be9e76a3-53ea-4bb3-9841-684ede1b770b')\"\n",
              "              title=\"Convert this dataframe to an interactive table.\"\n",
              "              style=\"display:none;\">\n",
              "        \n",
              "  <svg xmlns=\"http://www.w3.org/2000/svg\" height=\"24px\"viewBox=\"0 0 24 24\"\n",
              "       width=\"24px\">\n",
              "    <path d=\"M0 0h24v24H0V0z\" fill=\"none\"/>\n",
              "    <path d=\"M18.56 5.44l.94 2.06.94-2.06 2.06-.94-2.06-.94-.94-2.06-.94 2.06-2.06.94zm-11 1L8.5 8.5l.94-2.06 2.06-.94-2.06-.94L8.5 2.5l-.94 2.06-2.06.94zm10 10l.94 2.06.94-2.06 2.06-.94-2.06-.94-.94-2.06-.94 2.06-2.06.94z\"/><path d=\"M17.41 7.96l-1.37-1.37c-.4-.4-.92-.59-1.43-.59-.52 0-1.04.2-1.43.59L10.3 9.45l-7.72 7.72c-.78.78-.78 2.05 0 2.83L4 21.41c.39.39.9.59 1.41.59.51 0 1.02-.2 1.41-.59l7.78-7.78 2.81-2.81c.8-.78.8-2.07 0-2.86zM5.41 20L4 18.59l7.72-7.72 1.47 1.35L5.41 20z\"/>\n",
              "  </svg>\n",
              "      </button>\n",
              "      \n",
              "  <style>\n",
              "    .colab-df-container {\n",
              "      display:flex;\n",
              "      flex-wrap:wrap;\n",
              "      gap: 12px;\n",
              "    }\n",
              "\n",
              "    .colab-df-convert {\n",
              "      background-color: #E8F0FE;\n",
              "      border: none;\n",
              "      border-radius: 50%;\n",
              "      cursor: pointer;\n",
              "      display: none;\n",
              "      fill: #1967D2;\n",
              "      height: 32px;\n",
              "      padding: 0 0 0 0;\n",
              "      width: 32px;\n",
              "    }\n",
              "\n",
              "    .colab-df-convert:hover {\n",
              "      background-color: #E2EBFA;\n",
              "      box-shadow: 0px 1px 2px rgba(60, 64, 67, 0.3), 0px 1px 3px 1px rgba(60, 64, 67, 0.15);\n",
              "      fill: #174EA6;\n",
              "    }\n",
              "\n",
              "    [theme=dark] .colab-df-convert {\n",
              "      background-color: #3B4455;\n",
              "      fill: #D2E3FC;\n",
              "    }\n",
              "\n",
              "    [theme=dark] .colab-df-convert:hover {\n",
              "      background-color: #434B5C;\n",
              "      box-shadow: 0px 1px 3px 1px rgba(0, 0, 0, 0.15);\n",
              "      filter: drop-shadow(0px 1px 2px rgba(0, 0, 0, 0.3));\n",
              "      fill: #FFFFFF;\n",
              "    }\n",
              "  </style>\n",
              "\n",
              "      <script>\n",
              "        const buttonEl =\n",
              "          document.querySelector('#df-be9e76a3-53ea-4bb3-9841-684ede1b770b button.colab-df-convert');\n",
              "        buttonEl.style.display =\n",
              "          google.colab.kernel.accessAllowed ? 'block' : 'none';\n",
              "\n",
              "        async function convertToInteractive(key) {\n",
              "          const element = document.querySelector('#df-be9e76a3-53ea-4bb3-9841-684ede1b770b');\n",
              "          const dataTable =\n",
              "            await google.colab.kernel.invokeFunction('convertToInteractive',\n",
              "                                                     [key], {});\n",
              "          if (!dataTable) return;\n",
              "\n",
              "          const docLinkHtml = 'Like what you see? Visit the ' +\n",
              "            '<a target=\"_blank\" href=https://colab.research.google.com/notebooks/data_table.ipynb>data table notebook</a>'\n",
              "            + ' to learn more about interactive tables.';\n",
              "          element.innerHTML = '';\n",
              "          dataTable['output_type'] = 'display_data';\n",
              "          await google.colab.output.renderOutput(dataTable, element);\n",
              "          const docLink = document.createElement('div');\n",
              "          docLink.innerHTML = docLinkHtml;\n",
              "          element.appendChild(docLink);\n",
              "        }\n",
              "      </script>\n",
              "    </div>\n",
              "  </div>\n",
              "  "
            ]
          },
          "metadata": {},
          "execution_count": 14
        }
      ]
    },
    {
      "cell_type": "code",
      "source": [
        "from keras.models import model_from_json"
      ],
      "metadata": {
        "id": "5734AdEPoSIA"
      },
      "execution_count": null,
      "outputs": []
    },
    {
      "cell_type": "code",
      "source": [
        "def save_models(model):\n",
        "  # save the architecture\n",
        "  save_model_json = model.to_json()\n",
        "  with open(\"myModel_arc.json\", \"w\") as json_file:\n",
        "      json_file.write(save_model_json )\n",
        "\n",
        "  # save the weights\n",
        "  model.save_weights(\"myModel_wts.h5\")"
      ],
      "metadata": {
        "id": "Cdy2XK7eg8Vh"
      },
      "execution_count": null,
      "outputs": []
    },
    {
      "cell_type": "code",
      "source": [
        "# save the train and validation loss plots to disk\n",
        "def save_loss_plot(train_loss, val_loss):\n",
        "    plt.figure(figsize=(10, 7))\n",
        "    plt.plot(train_loss, color='orange', label='train loss')\n",
        "    plt.plot(val_loss, color='red', label='validataion loss')\n",
        "    plt.xlabel('Epochs')\n",
        "    plt.ylabel('Loss')\n",
        "    plt.legend()\n",
        "    plt.savefig('../outputs/loss.jpg')\n",
        "    plt.show()"
      ],
      "metadata": {
        "id": "Zh6Xnwtqo3zB"
      },
      "execution_count": null,
      "outputs": []
    },
    {
      "cell_type": "code",
      "source": [
        "def map_label_dicts(df):\n",
        "    # remove rows from the DataFrame which do not have corresponding images\n",
        "    df = clean_data_(df)\n",
        "    # we will use the `gender`, `masterCategory`. and `subCategory` labels\n",
        "\n",
        "    # mapping `gender` to numerical values\n",
        "    cat_list_gender = df['gender'].unique()\n",
        "    # 5 unique categories for gender\n",
        "    num_list_gender = {cat:i for i, cat in enumerate(cat_list_gender)}\n",
        "\n",
        "    # mapping `masterCategory` to numerical values\n",
        "    cat_list_master = df['masterCategory'].unique()\n",
        "    # 7 unique categories for `masterCategory`\n",
        "    num_list_master = {cat:i for i, cat in enumerate(cat_list_master)}\n",
        "\n",
        "    # mapping `subCategory` to numerical values\n",
        "    cat_list_sub = df['subCategory'].unique()\n",
        "    # 45 unique categories for `subCategory`\n",
        "    num_list_sub = {cat:i for i, cat in enumerate(cat_list_sub)}\n",
        "\n",
        "    return num_list_gender,num_list_master,num_list_sub"
      ],
      "metadata": {
        "id": "RC9aR7-IsbBP"
      },
      "execution_count": null,
      "outputs": []
    },
    {
      "cell_type": "code",
      "source": [
        "## Preparing Dataset"
      ],
      "metadata": {
        "id": "QpG8oYHvtmvJ"
      },
      "execution_count": null,
      "outputs": []
    },
    {
      "cell_type": "code",
      "source": [
        "import cv2\n",
        "from keras.preprocessing.image import ImageDataGenerator\n",
        "import math"
      ],
      "metadata": {
        "id": "Wj7Vn02St-y1"
      },
      "execution_count": null,
      "outputs": []
    },
    {
      "cell_type": "code",
      "source": [
        "def train_val_split(df):\n",
        "    # remove rows from the DataFrame which do not have corresponding images\n",
        "    df = clean_data_(df)\n",
        "\n",
        "    # shuffle the dataframe\n",
        "    # sample(frac=1) -> gives us a shuffled dataset, then we reset the index\n",
        "    df = df.sample(frac=1).reset_index(drop=True)\n",
        "\n",
        "    # 90% for training and 10% for validation\n",
        "    num_train_samples = math.floor(len(df) * 0.90)\n",
        "    num_val_samples = math.floor(len(df) * 0.10)\n",
        "    train_df = df[:num_train_samples].reset_index(drop=True)\n",
        "    val_df = df[-num_val_samples:].reset_index(drop=True)\n",
        "    return train_df, val_df"
      ],
      "metadata": {
        "id": "kHgPOkT-wE6l"
      },
      "execution_count": null,
      "outputs": []
    },
    {
      "cell_type": "code",
      "source": [
        "train.head(1)[\"id\"]"
      ],
      "metadata": {
        "colab": {
          "base_uri": "https://localhost:8080/"
        },
        "id": "m5RK-32Gkm_6",
        "outputId": "e896d7cc-3746-43b6-9004-5262417c8b5c"
      },
      "execution_count": null,
      "outputs": [
        {
          "output_type": "execute_result",
          "data": {
            "text/plain": [
              "0    15970\n",
              "Name: id, dtype: int64"
            ]
          },
          "metadata": {},
          "execution_count": 24
        }
      ]
    },
    {
      "cell_type": "code",
      "source": [
        "class FashionDataset():\n",
        "    def __init__(self, df, is_train=True):\n",
        "        self.df = df\n",
        "        gender,master,sub = map_label_dicts(df)\n",
        "        self.num_list_gender = gender\n",
        "        self.num_list_master = master\n",
        "        self.num_list_sub = sub\n",
        "        self.is_train = is_train\n",
        "\n",
        "        # the training transforms and augmentations\n",
        "        # ToPILImage(),Resize((224, 224)),\n",
        "        if self.is_train:\n",
        "            self.datagen = ImageDataGenerator(\n",
        "                rescale=1./255,\n",
        "                horizontal_flip=True,\n",
        "                vertical_flip=True,\n",
        "                rotation_range = 40,\n",
        "                shear_range = 0.2,\n",
        "                zoom_range = 0.2,\n",
        "                width_shift_range=0.2,\n",
        "                height_shift_range = 0.2\n",
        "            )\n",
        "        # the validation transforms\n",
        "        if not self.is_train:\n",
        "            self.datagen = ImageDataGenerator(rescale=1./255)\n",
        "\n",
        "    def label_mappings(self):\n",
        "        for ind in self.df.index:\n",
        "          temp = []\n",
        "          \n",
        "\n",
        "    def __len__(self):\n",
        "        return len(self.df)\n",
        "\n",
        "    def preprocess(self,img_path):\n",
        "        image = image.load_img(img_path,target_size=(224,224))\n",
        "        img_array = image.img_to_array(image)\n",
        "        expanded_img_array = np.expand_dims(img_array, axis=0)\n",
        "        preprocessed_img = expanded_img_array/255\n",
        "        return preprocessed_img\n",
        "\n",
        "    def __getitem__(self, index):\n",
        "        # one image\n",
        "        root_dir = \"images\"\n",
        "        img_filename = str(self.df['id'][index]) + \".jpg\"\n",
        "        img_path = os.path.join(root_dir,img_filename)\n",
        "\n",
        "        image = self.preprocess(img_path)\n",
        "\n",
        "        cat_gender = self.df['gender'][index]\n",
        "        label_gender = self.num_list_gender[cat_gender]\n",
        "        cat_master = self.df['masterCategory'][index]\n",
        "        label_master = self.num_list_master[cat_master]\n",
        "        cat_sub = self.df['subCategory'][index]\n",
        "        label_sub = self.num_list_sub[cat_sub]\n",
        "        \n",
        "        # image to float32 tensor\n",
        "        image = tensorflow.convert_to_tensor(image, dtype=tensorflow.float32)\n",
        "        # labels to long tensors\n",
        "        label_gender = tensorflow.convert_to_tensor(label_gender, \n",
        "                                                    dtype=tensorflow.long)\n",
        "        label_master = tensorflow.convert_to_tensor(label_master, \n",
        "                                                    dtype=tensorflow.long)\n",
        "        label_sub = tensorflow.convert_to_tensor(label_sub, \n",
        "                                                 dtype=tensorflow.long)\n",
        "        return {\n",
        "            'image': image,\n",
        "            'gender': label_gender,\n",
        "            'master': label_master,\n",
        "            'sub': label_sub\n",
        "        }"
      ],
      "metadata": {
        "id": "oevuokNBwyZ9"
      },
      "execution_count": null,
      "outputs": []
    },
    {
      "cell_type": "code",
      "source": [],
      "metadata": {
        "id": "-dlMc8WzsPzT"
      },
      "execution_count": null,
      "outputs": []
    },
    {
      "cell_type": "code",
      "source": [],
      "metadata": {
        "id": "5BAJ84PgsSQE"
      },
      "execution_count": null,
      "outputs": []
    },
    {
      "cell_type": "code",
      "source": [],
      "metadata": {
        "id": "2yoEFuwdsSSe"
      },
      "execution_count": null,
      "outputs": []
    },
    {
      "cell_type": "code",
      "source": [],
      "metadata": {
        "id": "_JHMNx5csSWR"
      },
      "execution_count": null,
      "outputs": []
    }
  ]
}